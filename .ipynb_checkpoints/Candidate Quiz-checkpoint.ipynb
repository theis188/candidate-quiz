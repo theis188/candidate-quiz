{
 "cells": [
  {
   "cell_type": "markdown",
   "metadata": {},
   "source": [
    "<strong>Data Science</strong>"
   ]
  },
  {
   "cell_type": "markdown",
   "metadata": {},
   "source": [
    "You fit a model to a set of training data and it achieves 80% accuracy. You put the model into production and it achieves 60% accuracy. Why? List as many reasons as you can think of."
   ]
  },
  {
   "cell_type": "markdown",
   "metadata": {},
   "source": [
    "You have a set of data for a consumer bank which includes information about account activity and whether or not that account was closed. Your boss tells you to make a model of churn to predict whose account may close soon. You are told to use either xgboost or deep learning. What do you choose and why?"
   ]
  },
  {
   "cell_type": "markdown",
   "metadata": {},
   "source": [
    "<strong>General & Web</strong>"
   ]
  },
  {
   "cell_type": "markdown",
   "metadata": {},
   "source": [
    "What happens when you enter a search phrase on google.com? Summarize in 3-5 sentences."
   ]
  },
  {
   "cell_type": "markdown",
   "metadata": {},
   "source": [
    "<strong>Coding & Python</strong>"
   ]
  },
  {
   "cell_type": "markdown",
   "metadata": {},
   "source": [
    "Write a function to convert integers in base 8 to base 10\n",
    "\n",
    "```\n",
    "7 -> 7\n",
    "\n",
    "137 -> 95\n",
    "```\n"
   ]
  },
  {
   "cell_type": "markdown",
   "metadata": {},
   "source": [
    "Write a function to convert integers in base 10 to base 8\n",
    "\n",
    "```\n",
    "7 -> 7\n",
    "\n",
    "95 -> 137\n",
    "```"
   ]
  },
  {
   "cell_type": "markdown",
   "metadata": {},
   "source": [
    "Write a function that will return every permutation of inclusion for elements of a list.\n",
    "e.g.:\n",
    "```\n",
    "[1,2] -> [[], [1], [2], [1,2]]\n",
    "```"
   ]
  }
 ],
 "metadata": {
  "anaconda-cloud": {},
  "kernelspec": {
   "display_name": "Python [default]",
   "language": "python",
   "name": "python3"
  },
  "language_info": {
   "codemirror_mode": {
    "name": "ipython",
    "version": 3
   },
   "file_extension": ".py",
   "mimetype": "text/x-python",
   "name": "python",
   "nbconvert_exporter": "python",
   "pygments_lexer": "ipython3",
   "version": "3.5.2"
  }
 },
 "nbformat": 4,
 "nbformat_minor": 1
}
